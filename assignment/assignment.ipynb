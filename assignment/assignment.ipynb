{
  "cells": [
    {
      "cell_type": "markdown",
      "id": "13ad028b-72b7-43ed-aa78-96fd4e518040",
      "metadata": {
        "id": "13ad028b-72b7-43ed-aa78-96fd4e518040"
      },
      "source": [
        "# Assignment: Data Wrangling\n",
        "### `! git clone https://github.com/ds4e/wrangling`\n",
        "### Do Q1 and Q2, and one of Q3 or Q4, for a total of 3 questions."
      ]
    },
    {
      "cell_type": "code",
      "execution_count": 206,
      "id": "f4cf4b58",
      "metadata": {},
      "outputs": [],
      "source": [
        "import pandas as pd\n",
        "import numpy as np\n",
        "import matplotlib.pyplot as plt"
      ]
    },
    {
      "cell_type": "markdown",
      "id": "da879ea7-8aac-48a3-b6c2-daea56d2e072",
      "metadata": {
        "id": "da879ea7-8aac-48a3-b6c2-daea56d2e072"
      },
      "source": [
        "**Q1.** This question provides some practice cleaning variables which have common problems.\n",
        "1. Numeric variable: For `./data/airbnb_hw.csv`, clean the `Price` variable as well as you can, and explain the choices you make. How many missing values do you end up with? (Hint: What happens to the formatting when a price goes over 999 dollars, say from 675 to 1,112?)\n",
        "2. Categorical variable: For the Minnesota police use of for data, `./data/mn_police_use_of_force.csv`, clean the `subject_injury` variable, handling the NA's; this gives a value `Yes` when a person was injured by police, and `No` when no injury occurred. What proportion of the values are missing? Is this a concern? Cross-tabulate your cleaned `subject_injury` variable with the `force_type` variable. Are there any patterns regarding when the data are missing? \n",
        "3. Dummy variable: For the pretrial data covered in the lecture, clean the `WhetherDefendantWasReleasedPretrial` variable as well as you can, and, in particular, replace missing values with `np.nan`.\n",
        "4. Missing values, not at random: For the pretrial data covered in the lecture, clean the `ImposedSentenceAllChargeInContactEvent` variable as well as you can, and explain the choices you make. (Hint: Look at the `SentenceTypeAllChargesAtConvictionInContactEvent` variable.)"
      ]
    },
    {
      "cell_type": "code",
      "execution_count": 207,
      "id": "50744f5c",
      "metadata": {},
      "outputs": [
        {
          "data": {
            "text/plain": [
              "Price\n",
              "False    30478\n",
              "Name: count, dtype: int64"
            ]
          },
          "execution_count": 207,
          "metadata": {},
          "output_type": "execute_result"
        }
      ],
      "source": [
        "# 1.1 Clean the `Price` variable as well as you can, \n",
        "# and explain the choices you make. \n",
        "# How many missing values do you end up with? \n",
        "# (Hint: What happens to the formatting when a price goes over 999 dollars, say from 675 to 1,112?)\n",
        "\n",
        "air = pd.read_csv(\"./data/airbnb_hw.csv\")\n",
        "\n",
        "# Dropping missing price data, as it tells us nothing about the price\n",
        "air = air.dropna(subset = [\"Price\"])\n",
        "\n",
        "# When price goes above 999, and it becomes a string, and contains a ',' for values in the thousands, \n",
        "# so this is converting those to numeric values, which can be used in mathematical operations and plotting\n",
        "air[\"Price\"] = air[\"Price\"].str.replace(\",\", \"\")\n",
        "air[\"Price\"] = pd.to_numeric(air[\"Price\"], errors = \"coerce\")\n",
        "\n",
        "air[\"Price\"].isnull().value_counts()\n",
        "# Zero missing values"
      ]
    },
    {
      "cell_type": "code",
      "execution_count": 208,
      "id": "d5ef4410",
      "metadata": {},
      "outputs": [
        {
          "name": "stdout",
          "output_type": "stream",
          "text": [
            "Proportion Missing: 0.762\n",
            "\n",
            "\n",
            "subject_injury\n",
            "Missing    9848\n",
            "Yes        1631\n",
            "No         1446\n",
            "Name: count, dtype: int64 \n",
            "\n",
            "\n"
          ]
        },
        {
          "data": {
            "text/html": [
              "<div>\n",
              "<style scoped>\n",
              "    .dataframe tbody tr th:only-of-type {\n",
              "        vertical-align: middle;\n",
              "    }\n",
              "\n",
              "    .dataframe tbody tr th {\n",
              "        vertical-align: top;\n",
              "    }\n",
              "\n",
              "    .dataframe thead th {\n",
              "        text-align: right;\n",
              "    }\n",
              "</style>\n",
              "<table border=\"1\" class=\"dataframe\">\n",
              "  <thead>\n",
              "    <tr style=\"text-align: right;\">\n",
              "      <th>force_type</th>\n",
              "      <th>Baton</th>\n",
              "      <th>Bodily Force</th>\n",
              "      <th>Chemical Irritant</th>\n",
              "      <th>Firearm</th>\n",
              "      <th>Gun Point Display</th>\n",
              "      <th>Improvised Weapon</th>\n",
              "      <th>Less Lethal</th>\n",
              "      <th>Less Lethal Projectile</th>\n",
              "      <th>Maximal Restraint Technique</th>\n",
              "      <th>Police K9 Bite</th>\n",
              "      <th>Taser</th>\n",
              "    </tr>\n",
              "    <tr>\n",
              "      <th>subject_injury</th>\n",
              "      <th></th>\n",
              "      <th></th>\n",
              "      <th></th>\n",
              "      <th></th>\n",
              "      <th></th>\n",
              "      <th></th>\n",
              "      <th></th>\n",
              "      <th></th>\n",
              "      <th></th>\n",
              "      <th></th>\n",
              "      <th></th>\n",
              "    </tr>\n",
              "  </thead>\n",
              "  <tbody>\n",
              "    <tr>\n",
              "      <th>Missing</th>\n",
              "      <td>2</td>\n",
              "      <td>7051</td>\n",
              "      <td>1421</td>\n",
              "      <td>0</td>\n",
              "      <td>27</td>\n",
              "      <td>74</td>\n",
              "      <td>87</td>\n",
              "      <td>0</td>\n",
              "      <td>170</td>\n",
              "      <td>31</td>\n",
              "      <td>985</td>\n",
              "    </tr>\n",
              "    <tr>\n",
              "      <th>No</th>\n",
              "      <td>0</td>\n",
              "      <td>1093</td>\n",
              "      <td>131</td>\n",
              "      <td>2</td>\n",
              "      <td>33</td>\n",
              "      <td>34</td>\n",
              "      <td>0</td>\n",
              "      <td>1</td>\n",
              "      <td>0</td>\n",
              "      <td>2</td>\n",
              "      <td>150</td>\n",
              "    </tr>\n",
              "    <tr>\n",
              "      <th>Yes</th>\n",
              "      <td>2</td>\n",
              "      <td>1286</td>\n",
              "      <td>41</td>\n",
              "      <td>0</td>\n",
              "      <td>44</td>\n",
              "      <td>40</td>\n",
              "      <td>0</td>\n",
              "      <td>2</td>\n",
              "      <td>0</td>\n",
              "      <td>44</td>\n",
              "      <td>172</td>\n",
              "    </tr>\n",
              "  </tbody>\n",
              "</table>\n",
              "</div>"
            ],
            "text/plain": [
              "force_type      Baton  Bodily Force  Chemical Irritant  Firearm  \\\n",
              "subject_injury                                                    \n",
              "Missing             2          7051               1421        0   \n",
              "No                  0          1093                131        2   \n",
              "Yes                 2          1286                 41        0   \n",
              "\n",
              "force_type      Gun Point Display  Improvised Weapon  Less Lethal  \\\n",
              "subject_injury                                                      \n",
              "Missing                        27                 74           87   \n",
              "No                             33                 34            0   \n",
              "Yes                            44                 40            0   \n",
              "\n",
              "force_type      Less Lethal Projectile  Maximal Restraint Technique  \\\n",
              "subject_injury                                                        \n",
              "Missing                              0                          170   \n",
              "No                                   1                            0   \n",
              "Yes                                  2                            0   \n",
              "\n",
              "force_type      Police K9 Bite  Taser  \n",
              "subject_injury                         \n",
              "Missing                     31    985  \n",
              "No                           2    150  \n",
              "Yes                         44    172  "
            ]
          },
          "execution_count": 208,
          "metadata": {},
          "output_type": "execute_result"
        }
      ],
      "source": [
        "# 1.2 Clean the `subject_injury` variable, handling the NA's; this gives a value `Yes` \n",
        "# when a person was injured by police, and `No` when no injury occurred. What proportion of the values are missing? \n",
        "# Is this a concern? Cross-tabulate your cleaned `subject_injury` variable with the `force_type` variable. \n",
        "# Are there any patterns regarding when the data are missing? \n",
        "\n",
        "police = pd.read_csv(\"./data/mn_police_use_of_force.csv\")\n",
        "police[\"subject_injury\"] = police[\"subject_injury\"].apply(lambda x: x if x in [\"Yes\", \"No\"] else \"Missing\")\n",
        "print(f\"Proportion Missing: {round(police['subject_injury'].value_counts()['Missing'] / len(police['subject_injury']),3)}\\n\\n\")\n",
        "\n",
        "# Yes this is concerning. 76.2% of the subject injury data being missing is way too high,\n",
        "# and likely indicates that the police are injuring more people than they are reporting\n",
        "\n",
        "print(police[\"subject_injury\"].value_counts(), \"\\n\\n\")\n",
        "pd.crosstab(police[\"subject_injury\"], police[\"force_type\"])\n",
        "\n",
        "# This cross table does have some apparent patterns. The missing subject injury observations have a\n",
        "# significantly higher rate of having chemical irritants used against them. Also, police k9 bites are much more prevalent in the missing data\n",
        "# than in the no injury data, meaning police dogs are biting subjects, and police are intentionally not reporting that in the subject injury column."
      ]
    },
    {
      "cell_type": "code",
      "execution_count": 209,
      "id": "41fc43d6",
      "metadata": {},
      "outputs": [
        {
          "name": "stdout",
          "output_type": "stream",
          "text": [
            "Pretrial_Release\n",
            "1    19154\n",
            "0     3801\n",
            "9       31\n",
            "Name: count, dtype: int64 \n",
            "\n",
            "\n",
            "Pretrial_Release\n",
            "1.0    19154\n",
            "0.0     3801\n",
            "NaN       31\n",
            "Name: count, dtype: int64 \n",
            "\n",
            "\n"
          ]
        }
      ],
      "source": [
        "# 1.3 For the pretrial data covered in the lecture, \n",
        "# clean the `WhetherDefendantWasReleasedPretrial` variable as well as you can, and, \n",
        "# in particular, replace missing values with `np.nan`\n",
        "url = 'http://www.vcsc.virginia.gov/pretrialdataproject/October%202017%20Cohort_Virginia%20Pretrial%20Data%20Project_Deidentified%20FINAL%20Update_10272021.csv'\n",
        "pretrial = pd.read_csv(url,low_memory=False)\n",
        "\n",
        "pretrial = pretrial.rename(columns = {\"WhetherDefendantWasReleasedPretrial\" : \"Pretrial_Release\"})\n",
        "print(pretrial[\"Pretrial_Release\"].value_counts(dropna = False), \"\\n\\n\")\n",
        "pretrial[\"Pretrial_Release\"] = pretrial[\"Pretrial_Release\"].apply(lambda x: x if x in (0,1) else np.nan)\n",
        "print(pretrial[\"Pretrial_Release\"].value_counts(dropna = False), \"\\n\\n\")"
      ]
    },
    {
      "cell_type": "code",
      "execution_count": 210,
      "id": "c51d018d",
      "metadata": {},
      "outputs": [],
      "source": [
        "# 1.4 For the pretrial data covered in the lecture, \n",
        "# clean the `ImposedSentenceAllChargeInContactEvent` variable as well as you can, \n",
        "# and explain the choices you make. \n",
        "# (Hint: Look at the `SentenceTypeAllChargesAtConvictionInContactEvent` variable.)\n",
        "\n",
        "url = 'http://www.vcsc.virginia.gov/pretrialdataproject/October%202017%20Cohort_Virginia%20Pretrial%20Data%20Project_Deidentified%20FINAL%20Update_10272021.csv'\n",
        "pretrial = pd.read_csv(url,low_memory=False)"
      ]
    },
    {
      "cell_type": "code",
      "execution_count": 211,
      "id": "507cb50f",
      "metadata": {},
      "outputs": [
        {
          "name": "stdout",
          "output_type": "stream",
          "text": [
            "\n",
            "\n",
            "\n",
            "ImposedSentenceAllChargeInContactEvent\n",
            "NaN          9053\n",
            "0.000000     4953\n",
            "12.000000    1404\n",
            "0.985626     1051\n",
            "6.000000      809\n",
            "             ... \n",
            "49.971253       1\n",
            "57.034908       1\n",
            "79.926078       1\n",
            "42.164271       1\n",
            "1.657084        1\n",
            "Name: count, Length: 484, dtype: int64\n",
            "SentenceTypeAllChargesAtConvictionInContactEvent\n",
            "4    8779\n",
            "0    8720\n",
            "1    4299\n",
            "2     914\n",
            "9     274\n",
            "Name: count, dtype: int64\n",
            "\n",
            "\n",
            "\n",
            "\n"
          ]
        }
      ],
      "source": [
        "# print(pretrial[\"ImposedSentenceAllChargeInContactEvent\"].apply(type).value_counts())\n",
        "# Converting values from strings to ints\n",
        "pretrial[\"ImposedSentenceAllChargeInContactEvent\"] = pd.to_numeric(pretrial[\"ImposedSentenceAllChargeInContactEvent\"], errors = \"coerce\")\n",
        "# print(pretrial[\"ImposedSentenceAllChargeInContactEvent\"].apply(type).value_counts())\n",
        "print(\"\\n\\n\")\n",
        "print(pretrial[\"ImposedSentenceAllChargeInContactEvent\"].value_counts(dropna = False))\n",
        "print(pretrial[\"SentenceTypeAllChargesAtConvictionInContactEvent\"].value_counts(dropna = False))\n",
        "print(\"\\n\\n\\n\")"
      ]
    },
    {
      "cell_type": "code",
      "execution_count": 212,
      "id": "154b4cbb",
      "metadata": {},
      "outputs": [
        {
          "name": "stdout",
          "output_type": "stream",
          "text": [
            "SentenceTypeAllChargesAtConvictionInContactEvent     0   1  2     4    9\n",
            "ImposedSentenceAllChargeInContactEvent                                  \n",
            "0.000000                                          4953   0  0     0    0\n",
            "0.032854                                             0   6  0     0    0\n",
            "0.065708                                             3  21  0     0    0\n",
            "0.098563                                             2   6  0     0    0\n",
            "0.131417                                             4  10  0     0    0\n",
            "...                                                ...  .. ..   ...  ...\n",
            "1500.000000                                          0   0  1     0    0\n",
            "1752.000000                                          0   0  1     0    0\n",
            "1980.000000                                          0   0  1     0    0\n",
            "2208.000000                                          0   0  1     0    0\n",
            "NaN                                                  0   0  0  8779  274\n",
            "\n",
            "[484 rows x 5 columns]\n",
            "SentenceTypeAllChargesAtConvictionInContactEvent\n",
            "0    8720\n",
            "1    4299\n",
            "2     914\n",
            "Name: count, dtype: int64\n",
            "2208.0\n",
            "100.0\n"
          ]
        }
      ],
      "source": [
        "print(pd.crosstab(pretrial[\"ImposedSentenceAllChargeInContactEvent\"], pretrial[\"SentenceTypeAllChargesAtConvictionInContactEvent\"], dropna = False))\n",
        "# All the 4s and 9s (Pending, Dismissed, Deferred, Not Applicable) result in Imposed Sentence of NaN\n",
        "# I understand why this is the case, but I am unsure what I am meant to do with this information from a cleaning perspective, so I am just going to drop them\n",
        "pretrial = pretrial.dropna(subset = [\"ImposedSentenceAllChargeInContactEvent\"])\n",
        "print(pretrial[\"SentenceTypeAllChargesAtConvictionInContactEvent\"].value_counts(dropna = False))\n",
        "\n",
        "# Imposed Sentence is measured in months. I understand that sentences go larger than life, \n",
        "# but for data analysis purposes, I can see the case for representing values above 100 years as 100 years, to indicate a life sentence,\n",
        "# so I am setting values greater than 100 equal to 100\n",
        "print(max(pretrial[\"ImposedSentenceAllChargeInContactEvent\"]))\n",
        "pretrial[pretrial[\"ImposedSentenceAllChargeInContactEvent\"] > 100] = 100\n",
        "print(max(pretrial[\"ImposedSentenceAllChargeInContactEvent\"]))"
      ]
    },
    {
      "cell_type": "code",
      "execution_count": 213,
      "id": "5259598d",
      "metadata": {},
      "outputs": [
        {
          "data": {
            "image/png": "[encoded data removed]",
            "text/plain": [
              "<Figure size 640x480 with 1 Axes>"
            ]
          },
          "metadata": {},
          "output_type": "display_data"
        }
      ],
      "source": [
        "plt.hist(pretrial[\"ImposedSentenceAllChargeInContactEvent\"], bins = 20)\n",
        "plt.show()"
      ]
    },
    {
      "cell_type": "markdown",
      "id": "5a60a44e",
      "metadata": {},
      "source": [
        "**Q2.** Go to https://sharkattackfile.net/ and download their dataset on shark attacks.\n",
        "\n",
        "1. Open the shark attack file using Pandas. It is probably not a csv file, so `read_csv` won't work.\n",
        "2. Drop any columns that do not contain data.\n",
        "3. Clean the year variable. Describe the range of values you see. Filter the rows to focus on attacks since 1940. Are attacks increasing, decreasing, or remaining constant over time?\n",
        "4. Clean the Age variable and make a histogram of the ages of the victims.\n",
        "5. What proportion of victims are male?\n",
        "6. Clean the `Type` variable so it only takes three values: Provoked and Unprovoked and Unknown. What proportion of attacks are unprovoked?\n",
        "7. Clean the `Fatal Y/N` variable so it only takes three values: Y, N, and Unknown.\n",
        "8. Are sharks more likely to launch unprovoked attacks on men or women? Is the attack more or less likely to be fatal when the attack is provoked or unprovoked? Is it more or less likely to be fatal when the victim is male or female? How do you feel about sharks?\n",
        "9. What proportion of attacks appear to be by white sharks? (Hint: `str.split()` makes a vector of text values into a list of lists, split by spaces.)"
      ]
    },
    {
      "cell_type": "code",
      "execution_count": 214,
      "id": "bab5e1fb",
      "metadata": {},
      "outputs": [
        {
          "name": "stdout",
          "output_type": "stream",
          "text": [
            "Index(['Date', 'Year', 'Type', 'Country', 'State', 'Location', 'Activity',\n",
            "       'Name', 'Sex', 'Age', 'Injury', 'Fatal Y/N', 'Time', 'Species ',\n",
            "       'Source', 'pdf', 'href formula', 'href', 'Case Number', 'Case Number.1',\n",
            "       'original order', 'Unnamed: 21', 'Unnamed: 22'],\n",
            "      dtype='object')\n",
            "Index(['Date', 'Year', 'Type', 'Country', 'State', 'Location', 'Activity',\n",
            "       'Name', 'Sex', 'Age', 'Injury', 'Fatal Y/N', 'Time', 'Source', 'pdf',\n",
            "       'href formula', 'href', 'Case Number', 'Case Number.1',\n",
            "       'original order', 'Unnamed: 21', 'Unnamed: 22', 'Species'],\n",
            "      dtype='object')\n"
          ]
        }
      ],
      "source": [
        "# 2.1 - Open the shark attack file using Pandas. It is probably not a csv file, so `read_csv` won't work.\n",
        "\n",
        "# pip install xlrd\n",
        "df = pd.read_excel(\"data/GSAF5.xls\")\n",
        "print(df.columns)\n",
        "# Renaming species column to get rid of this space\n",
        "df[\"Species\"] = df[\"Species \"]\n",
        "df = df.drop(columns = [\"Species \"])\n",
        "print(df.columns)"
      ]
    },
    {
      "cell_type": "code",
      "execution_count": 215,
      "id": "a0b100a0",
      "metadata": {},
      "outputs": [
        {
          "data": {
            "text/plain": [
              "Index(['Date', 'Year', 'Type', 'Country', 'State', 'Location', 'Activity',\n",
              "       'Name', 'Sex', 'Age', 'Injury', 'Fatal Y/N', 'Time', 'Source', 'pdf',\n",
              "       'href formula', 'href', 'Case Number', 'Case Number.1',\n",
              "       'original order', 'Unnamed: 21', 'Unnamed: 22', 'Species'],\n",
              "      dtype='object')"
            ]
          },
          "execution_count": 215,
          "metadata": {},
          "output_type": "execute_result"
        }
      ],
      "source": [
        "# 2.2 - Drop any columns that do not contain data.\n",
        "\n",
        "df = df.dropna(axis = 1, how = 'all')\n",
        "df.columns\n",
        "# Nothing changed?"
      ]
    },
    {
      "cell_type": "code",
      "execution_count": 216,
      "id": "c056bfe1",
      "metadata": {},
      "outputs": [
        {
          "name": "stdout",
          "output_type": "stream",
          "text": [
            "[2025. 2024. 2026. 2023. 2022. 2021. 2020. 2019. 2018. 2017.   nan 2016.\n",
            " 2015. 2014. 2013. 2012. 2011. 2010. 2009. 2008. 2007. 2006. 2005. 2004.\n",
            " 2003. 2002. 2001. 2000. 1999. 1998. 1997. 1996. 1995. 1984. 1994. 1993.\n",
            " 1992. 1991. 1990. 1989. 1969. 1988. 1987. 1986. 1985. 1983. 1982. 1981.\n",
            " 1980. 1979. 1978. 1977. 1976. 1975. 1974. 1973. 1972. 1971. 1970. 1968.\n",
            " 1967. 1966. 1965. 1964. 1963. 1962. 1961. 1960. 1959. 1958. 1957. 1956.\n",
            " 1955. 1954. 1953. 1952. 1951. 1950. 1949. 1948. 1848. 1947. 1946. 1945.\n",
            " 1944. 1943. 1942. 1941. 1940. 1939. 1938. 1937. 1936. 1935. 1934. 1933.\n",
            " 1932. 1931. 1930. 1929. 1928. 1927. 1926. 1925. 1924. 1923. 1922. 1921.\n",
            " 1920. 1919. 1918. 1917. 1916. 1915. 1914. 1913. 1912. 1911. 1910. 1909.\n",
            " 1908. 1907. 1906. 1905. 1904. 1903. 1902. 1901. 1900. 1899. 1898. 1897.\n",
            " 1896. 1895. 1894. 1893. 1892. 1891. 1890. 1889. 1888. 1887. 1886. 1885.\n",
            " 1884. 1883. 1882. 1881. 1880. 1879. 1878. 1877. 1876. 1875. 1874. 1873.\n",
            " 1872. 1871. 1870. 1869. 1868. 1867. 1866. 1865. 1864. 1863. 1862. 1861.\n",
            " 1860. 1859. 1858. 1857. 1856. 1855. 1853. 1852. 1851. 1850. 1849. 1847.\n",
            " 1846. 1845. 1844. 1842. 1841. 1840. 1839. 1837. 1836. 1835. 1834. 1832.\n",
            " 1831. 1830. 1829. 1828. 1827. 1826. 1825. 1823. 1822. 1819. 1818. 1817.\n",
            " 1816. 1815. 1812. 1811. 1810. 1808. 1807. 1805. 1804. 1803. 1802. 1801.\n",
            " 1800. 1797. 1792. 1791. 1788. 1787. 1786. 1785. 1784. 1783. 1780. 1779.\n",
            " 1776. 1771. 1767. 1764. 1758. 1753. 1751. 1749. 1755. 1748. 1742. 1738.\n",
            " 1733. 1723. 1721. 1703. 1700. 1642. 1691. 1640. 1638. 1637. 1617. 1595.\n",
            " 1580. 1555. 1554. 1543. 1518. 1500. 1000.   77.    5.    0.] \n",
            "\n",
            "\n",
            "[2025. 2024. 2026. 2023. 2022. 2021. 2020. 2019. 2018. 2017. 2016. 2015.\n",
            " 2014. 2013. 2012. 2011. 2010. 2009. 2008. 2007. 2006. 2005. 2004. 2003.\n",
            " 2002. 2001. 2000. 1999. 1998. 1997. 1996. 1995. 1984. 1994. 1993. 1992.\n",
            " 1991. 1990. 1989. 1969. 1988. 1987. 1986. 1985. 1983. 1982. 1981. 1980.\n",
            " 1979. 1978. 1977. 1976. 1975. 1974. 1973. 1972. 1971. 1970. 1968. 1967.\n",
            " 1966. 1965. 1964. 1963. 1962. 1961. 1960. 1959. 1958. 1957. 1956. 1955.\n",
            " 1954. 1953. 1952. 1951. 1950. 1949. 1948. 1848. 1947. 1946. 1945. 1944.\n",
            " 1943. 1942. 1941. 1940. 1939. 1938. 1937. 1936. 1935. 1934. 1933. 1932.\n",
            " 1931. 1930. 1929. 1928. 1927. 1926. 1925. 1924. 1923. 1922. 1921. 1920.\n",
            " 1919. 1918. 1917. 1916. 1915. 1914. 1913. 1912. 1911. 1910. 1909. 1908.\n",
            " 1907. 1906. 1905. 1904. 1903. 1902. 1901. 1900. 1899. 1898. 1897. 1896.\n",
            " 1895. 1894. 1893. 1892. 1891. 1890. 1889. 1888. 1887. 1886. 1885. 1884.\n",
            " 1883. 1882. 1881. 1880. 1879. 1878. 1877. 1876. 1875. 1874. 1873. 1872.\n",
            " 1871. 1870. 1869. 1868. 1867. 1866. 1865. 1864. 1863. 1862. 1861. 1860.\n",
            " 1859. 1858. 1857. 1856. 1855. 1853. 1852. 1851. 1850. 1849. 1847. 1846.\n",
            " 1845. 1844. 1842. 1841. 1840. 1839. 1837. 1836. 1835. 1834. 1832. 1831.\n",
            " 1830. 1829. 1828. 1827. 1826. 1825. 1823. 1822. 1819. 1818. 1817. 1816.\n",
            " 1815. 1812. 1811. 1810. 1808. 1807. 1805. 1804. 1803. 1802. 1801. 1800.\n",
            " 1797. 1792. 1791. 1788. 1787. 1786. 1785. 1784. 1783. 1780. 1779. 1776.\n",
            " 1771. 1767. 1764. 1758. 1753. 1751. 1749. 1755. 1748. 1742. 1738. 1733.\n",
            " 1723. 1721. 1703. 1700. 1642. 1691. 1640. 1638. 1637. 1617. 1595. 1580.\n",
            " 1555. 1554. 1543. 1518. 1500. 1000.]\n"
          ]
        },
        {
          "data": {
            "image/png": "[encoded data removed]",
            "text/plain": [
              "<Figure size 640x480 with 1 Axes>"
            ]
          },
          "metadata": {},
          "output_type": "display_data"
        }
      ],
      "source": [
        "# 2.3 - Clean the year variable. Describe the range of values you see. Filter the rows to focus on attacks since 1940. Are attacks increasing, decreasing, or remaining constant over time?\n",
        "\n",
        "print(df['Year'].unique(), \"\\n\\n\")\n",
        "df = df[~df['Year'].isin([np.nan, 77., 5., 0,])]\n",
        "print(df['Year'].unique())\n",
        "\n",
        "# The values range from 1000 to 2025\n",
        "df = df[df['Year'] >= 1940]\n",
        "df['Year'].unique()\n",
        "# Shark Attacks increasing\n",
        "plt.figure()\n",
        "plt.hist(df['Year'], color = 'navy')\n",
        "plt.xlabel(\"Year\")\n",
        "plt.ylabel(\"Number of Shark Attacks\")\n",
        "plt.title(\"Shark Attack Reports are Increasing Over Time\")\n",
        "plt.show()"
      ]
    },
    {
      "cell_type": "code",
      "execution_count": 217,
      "id": "f6e743ae",
      "metadata": {},
      "outputs": [
        {
          "name": "stdout",
          "output_type": "stream",
          "text": [
            "[23 40 28 69 48 '60+' '?' 57 24 45 61 27 38 16 33 30 15 41 14 26\n",
            " 'Middle age' 18 21 49 25 46 19 20 65 64 '13' nan '11' '46' '32' '29' '10'\n",
            " '64' '62' '39' '22' '15' '16' '21' '66' '52' '20' '44' '26' '47' '55'\n",
            " '30' '59' '8' '50' '45' '34' '38' '30s' '37' '9' '19' '20/30' '35' '65'\n",
            " '20s' '77' '60' '49' '42' '!2' '24' '73' '25' '18' '50s' '58' '67' '17'\n",
            " '14' '6' '41' '53' '68' '43' '40' '51' '31' 39 58 51 17 10 13 60 '40s' 68\n",
            " 35 62 'teen' 8 22 32 56 'Teen' 12 42 36 37 50 'M' 9 11 34 '!6' 31 '!!' 47\n",
            " 55 7 71 59 53 54 75 '45 and 15' 73 52 29 70 4 63 44 '28 & 22'\n",
            " '22, 57, 31' '60s' \"20's\" 43 67 74 '9 & 60' 'a minor' 6 3 82 66 72 '23'\n",
            " '12' '36' '63' '71' '48' '70' '18 months' '57' '7' '28' '33' '61' '74'\n",
            " '27' '3' '56' '28 & 26' '5' '54' '86' '18 or 20' '12 or 13' '46 & 34'\n",
            " '28, 23 & 30' 'Teens' 77 '36 & 26' '8 or 10' 84 '\\xa0 ' ' ' '30 or 36'\n",
            " '6½' '21 & ?' '33 or 37' 'mid-30s' '23 & 20' 5 ' 30' '7      &    31'\n",
            " ' 28' '20?' \"60's\" '69' '32 & 30' '16 to 18' '87' 'Elderly' 'mid-20s'\n",
            " 'Ca. 33' '74 ' '45 ' '21 or 26' '20 ' '>50' '18 to 22' 'adult' '9 & 12'\n",
            " '? & 19' '9 months' '25 to 35' '23 & 26' 1 '(adult)' '33 & 37' '25 or 28'\n",
            " '37, 67, 35, 27,  ? & 27' '21, 34,24 & 35' '30 & 32' '50 & 30' '17 & 35'\n",
            " 'X' '\"middle-age\"' '13 or 18' '34 & 19' '33 & 26' '2 to 3 months' '4'\n",
            " 'MAKE LINE GREEN' ' 43' '81' '\"young\"' '7 or 8' 78 '17 & 16' 'F'] \n",
            "\n",
            "\n",
            "[23. 40. 28. 69. 48. 57. 24. 45. 61. 27. 38. 16. 33. 30. 15. 41. 14. 26.\n",
            " 18. 21. 49. 25. 46. 19. 20. 65. 64. 13. 11. 32. 29. 10. 62. 39. 22. 66.\n",
            " 52. 44. 47. 55. 59.  8. 50. 34. 37.  9. 35. 77. 60. 42. 73. 58. 67. 17.\n",
            "  6. 53. 68. 43. 51. 31. 56. 12. 36.  7. 71. 54. 75. 70.  4. 63. 74.  3.\n",
            " 82. 72.  5. 86. 84. 87.  1. 81. 78.]\n"
          ]
        },
        {
          "data": {
            "image/png": "[encoded data removed]",
            "text/plain": [
              "<Figure size 640x480 with 1 Axes>"
            ]
          },
          "metadata": {},
          "output_type": "display_data"
        }
      ],
      "source": [
        "# 2.4 - Clean the Age variable and make a histogram of the ages of the victims.\n",
        "\n",
        "print(df['Age'].unique(), \"\\n\\n\")\n",
        "df['Age'] = pd.to_numeric(df['Age'], errors='coerce')\n",
        "df = df.dropna(subset = ['Age'])\n",
        "print(df['Age'].unique())\n",
        "\n",
        "plt.figure()\n",
        "plt.hist(df['Age'], color = 'navy')\n",
        "plt.xlabel(\"Age\")\n",
        "plt.ylabel(\"Number of Shark Attacks\")\n",
        "plt.title(\"Shark Attack Reports by Age since 1940\")\n",
        "plt.show()"
      ]
    },
    {
      "cell_type": "code",
      "execution_count": 218,
      "id": "e2c1a7d8",
      "metadata": {},
      "outputs": [
        {
          "name": "stdout",
          "output_type": "stream",
          "text": [
            "Sex\n",
            "M      2977\n",
            "F       545\n",
            " M        1\n",
            "M         1\n",
            "lli       1\n",
            "Name: count, dtype: int64 \n",
            "\n",
            "\n",
            "Sex\n",
            "M    2979\n",
            "F     545\n",
            "Name: count, dtype: int64 \n",
            "\n",
            "\n",
            "The proportion of victims which are men is 0.845\n"
          ]
        }
      ],
      "source": [
        "# 2.5 - What proportion of victims are male?\n",
        "\n",
        "print(df['Sex'].value_counts(), \"\\n\\n\")\n",
        "df['Sex'] = df['Sex'].str.strip()\n",
        "df = df[df['Sex'].isin([\"M\", \"F\"])]\n",
        "print(df['Sex'].value_counts(), '\\n\\n')\n",
        "\n",
        "print(\"The proportion of victims which are men is\", round(sum(df['Sex'] == \"M\") / len(df), 3))"
      ]
    },
    {
      "cell_type": "code",
      "execution_count": 219,
      "id": "b8f09c0a",
      "metadata": {},
      "outputs": [
        {
          "name": "stdout",
          "output_type": "stream",
          "text": [
            "Type\n",
            "Unprovoked             2933\n",
            "Provoked                286\n",
            "Invalid                 203\n",
            "Watercraft               39\n",
            "Sea Disaster             37\n",
            "Questionable             15\n",
            "?                         1\n",
            "Under investigation       1\n",
            "Name: count, dtype: int64 \n",
            "\n",
            "\n",
            "Type\n",
            "Unprovoked    2933\n",
            "Unknown        305\n",
            "Provoked       286\n",
            "Name: count, dtype: int64 \n",
            "\n",
            "\n",
            "The proportion of attacks which are unprovoked is 0.832\n"
          ]
        }
      ],
      "source": [
        "# 2.6 - Clean the `Type` variable so it only takes three values: Provoked and Unprovoked and Unknown. What proportion of attacks are unprovoked?\n",
        "\n",
        "print(df['Type'].value_counts(), \"\\n\\n\")\n",
        "df['Type'] = df['Type'].apply(lambda x: x if x in [\"Unprovoked\", \"Provoked\"] else \"Unknown\")\n",
        "print(df['Type'].value_counts(), \"\\n\\n\")\n",
        "\n",
        "print(\"The proportion of attacks which are unprovoked is\", round(sum(df['Type'] == \"Unprovoked\") / len(df), 3))"
      ]
    },
    {
      "cell_type": "code",
      "execution_count": 220,
      "id": "cc946ba6",
      "metadata": {},
      "outputs": [
        {
          "name": "stdout",
          "output_type": "stream",
          "text": [
            "['N' 'Y' 'F' nan 'M' 2017 'UNKNOWN' ' N'] \n",
            "\n",
            "\n",
            "Fatal Y/N\n",
            "N          2795\n",
            "Y           511\n",
            "UNKNOWN       7\n",
            " N            6\n",
            "F             4\n",
            "M             1\n",
            "2017          1\n",
            "Name: count, dtype: int64 \n",
            "\n",
            "\n",
            "Fatal Y/N\n",
            "N          2801\n",
            "Y           511\n",
            "UNKNOWN       7\n",
            "F             4\n",
            "M             1\n",
            "2017          1\n",
            "Name: count, dtype: int64 \n",
            "\n",
            "\n",
            "Fatal Y/N\n",
            "N          2801\n",
            "Y           511\n",
            "Unknown      13\n",
            "Name: count, dtype: int64\n"
          ]
        }
      ],
      "source": [
        "# 2.7 - Clean the `Fatal Y/N` variable so it only takes three values: Y, N, and Unknown.\n",
        "\n",
        "print(df['Fatal Y/N'].unique(), \"\\n\\n\")\n",
        "df = df.dropna(subset = ['Fatal Y/N'])\n",
        "print(df['Fatal Y/N'].value_counts(), \"\\n\\n\")\n",
        "df['Fatal Y/N'] = df['Fatal Y/N'].astype(str)\n",
        "df['Fatal Y/N'] = df['Fatal Y/N'].str.strip()\n",
        "print(df['Fatal Y/N'].value_counts(), \"\\n\\n\")\n",
        "df['Fatal Y/N'] = df['Fatal Y/N'].apply(lambda x: x if x in [\"Y\", \"N\"] else \"Unknown\")\n",
        "print(df['Fatal Y/N'].value_counts())"
      ]
    },
    {
      "cell_type": "code",
      "execution_count": 221,
      "id": "1add2630",
      "metadata": {},
      "outputs": [
        {
          "name": "stdout",
          "output_type": "stream",
          "text": [
            "Proportion of attacks on men which are unprovoked: 0.871\n",
            "Proportion of attacks on women which are unprovoked: 0.928\n",
            "Meaning sharks are more likely to launch unprovoked attacks of women\n",
            "\n",
            "\n",
            "Proportion of provoked attacks which are fatal: 0.025\n",
            "Proportion of unprovoked attacks which are fatal: 0.163\n",
            "Meaning shark attacks are more likely to be fatal when the attack is unprovoked. This makes sense, as the victim is typically unaware, and not prepared to handle a shark attack\n",
            "\n",
            "\n",
            "Proportion of attacks on men which are fatal: 0.156\n",
            "Proportion of attacks on women which are fatal: 0.143\n",
            "Meaning shark attacks on men are more likely to be fatal than shark attacks on women\n",
            "\n",
            "\n",
            "I am pretty apathetic about sharks. I don't like to go in the ocean, so I have no reason to fear them, nor do I find them particularly interesting. As long as they stay in the ocean, I have no problem with sharks\n"
          ]
        }
      ],
      "source": [
        "# 2.8 - Are sharks more likely to launch unprovoked attacks on men or women? Is the attack more or less likely to be fatal when the attack is provoked or unprovoked? Is it more or less likely to be fatal when the victim is male or female? How do you feel about sharks?\n",
        "\n",
        "prop_unprovoked_by_sex = df[df[\"Type\"] == \"Unprovoked\"].groupby(\"Sex\")[\"Type\"].count() / df.groupby(\"Sex\")[\"Type\"].count() \n",
        "print(f\"Proportion of attacks on men which are unprovoked: {round(prop_unprovoked_by_sex['M'],3)}\\nProportion of attacks on women which are unprovoked: {round(prop_unprovoked_by_sex['F'],3)}\")\n",
        "print(\"Meaning sharks are more likely to launch unprovoked attacks of women\\n\\n\")\n",
        "\n",
        "prop_fatal_by_provocation = df[df[\"Fatal Y/N\"] == \"Y\"].groupby(\"Type\")[\"Fatal Y/N\"].count() / df.groupby(\"Type\")[\"Fatal Y/N\"].count() \n",
        "print(f\"Proportion of provoked attacks which are fatal: {round(prop_fatal_by_provocation['Provoked'],3)}\\nProportion of unprovoked attacks which are fatal: {round(prop_fatal_by_provocation['Unprovoked'],3)}\")\n",
        "print(\"Meaning shark attacks are more likely to be fatal when the attack is unprovoked. This makes sense, as the victim is typically unaware, and not prepared to handle a shark attack\\n\\n\")\n",
        "\n",
        "prop_fatal_by_sex = df[df[\"Fatal Y/N\"] == \"Y\"].groupby(\"Sex\")[\"Fatal Y/N\"].count() / df.groupby(\"Sex\")[\"Fatal Y/N\"].count() \n",
        "print(f\"Proportion of attacks on men which are fatal: {round(prop_fatal_by_sex['M'],3)}\\nProportion of attacks on women which are fatal: {round(prop_fatal_by_sex['F'],3)}\")\n",
        "print(\"Meaning shark attacks on men are more likely to be fatal than shark attacks on women\\n\\n\")\n",
        "\n",
        "print(\"I am pretty apathetic about sharks. I don't like to go in the ocean, so I have no reason to fear them, nor do I find them particularly interesting. As long as they stay in the ocean, I have no problem with sharks\")\n"
      ]
    },
    {
      "cell_type": "code",
      "execution_count": 222,
      "id": "2aee588a",
      "metadata": {},
      "outputs": [
        {
          "name": "stdout",
          "output_type": "stream",
          "text": [
            "Proportion of attacks done by white sharks: 0.134\n"
          ]
        }
      ],
      "source": [
        "# 2.9 - What proportion of attacks appear to be by white sharks? (Hint: `str.split()` makes a vector of text values into a list of lists, split by spaces.)\n",
        "split = df[\"Species\"].str.lower().str.split()\n",
        "\n",
        "white_count = 0\n",
        "total_sharks = len(split)\n",
        "for vect in split:\n",
        "    if(vect == np.nan or type(vect) == float):\n",
        "        continue\n",
        "    else:\n",
        "        if \"white\" in vect:\n",
        "            white_count += 1\n",
        "        \n",
        "\n",
        "print(f\"Proportion of attacks done by white sharks: {round(white_count/total_sharks,3)}\")"
      ]
    },
    {
      "cell_type": "markdown",
      "id": "5735a4d4-8be8-433a-a351-70eb8002e632",
      "metadata": {
        "id": "5735a4d4-8be8-433a-a351-70eb8002e632"
      },
      "source": [
        "**Q3.** Open the \"tidy_data.pdf\" document in the repo, which is a paper called Tidy Data by Hadley Wickham.\n",
        "\n",
        "  1. Read the abstract. What is this paper about?\n",
        "   - This paper is about data tidying, a framework for data cleaning that eases the process of making messy datasets \"tidy\", allowing for easier manipulation, modeling, and visualization of data.\n",
        "  2. Read the introduction. What is the \"tidy data standard\" intended to accomplish?\n",
        "   - It is intended to facilitate exploratory data analysis, and make it simpler to develop data analysis tools that function well together.\n",
        "  3. Read the intro to section 2. What does this sentence mean: \"Like families, tidy datasets are all alike but every messy dataset is messy in its own way.\" What does this sentence mean: \"For a given dataset, it’s usually easy to figure out what are observations and what are variables, but it is surprisingly difficult to precisely define variables and observations in general.\"\n",
        "   - The first sentence means that every messy dataset is considered messy for a different reason, while tidy datasets are tidy in a standardized way. Some messy datasets are messy for one reason, and other messy datasets are messy for a different reason. With tidy datasets, however, they have been standardized in a way that makes them structurally alike. The second sentence is saying that it is easy to understand what parts of specific datasets are observations/variables, but hard to generalize these terms into definitions that can be applied to every dataset.\n",
        "  4. Read Section 2.2. How does Wickham define values, variables, and observations?\n",
        "   - Values are the quantitative or qualitative data stored in a dataset, which belong to a variable and an observation. A variable contains the values measuring the same attribute, for example temperature or height. An observation on the other hand, contains the values measured on the same unit, for example, a person, day, or race.\n",
        "  5. How is \"Tidy Data\" defined in section 2.3?\n",
        "   - Tidy Data is defined as data in which \n",
        "   - - Each variable forms a column\n",
        "   - - Each observation forms a row\n",
        "   - - Each type of observational unit forms a table\n",
        "  6. Read the intro to Section 3 and Section 3.1. What are the 5 most common problems with messy datasets? Why are the data in Table 4 messy? What is \"melting\" a dataset?\n",
        "   - The Five Most Common Problems with Messy Datasets Are:\n",
        "   - - Column headers are values, not variable names\n",
        "   - - Multiple variables are stored in one column\n",
        "   - - Variables are stored in both rows and columns\n",
        "   - - Multiple types of observational units are stored in the same table\n",
        "   - - A single observational unit is stored in multiple tables\n",
        "   - The data in table 4 are messy because multiple variables are stored in one column. Both income and frequency are being stored in the same columns.\n",
        "   - Melting a dataset is essentially turning columns into rows. In the example of table 4, melting the dataset would mean turning income and frequency into two distinct columns, and putting the income column names into rows.\n",
        "  7. Why, specifically, is table 11 messy but table 12 tidy and \"molten\"?\n",
        "   - In table 11, column headers are values, not variable names. d1, d2, ... are values of date, not variables. Table 12, however, is tidy, because the days have been turned into values, and now each column stores just one variable. Table 12 is also \"molten\", because the dataset has been melted, with the days columns being turned into rows.\n",
        "  8. Read Section 6. What is the \"chicken-and-egg\" problem with focusing on tidy data? What does Wickham hope happens in the future with further work on the subject of data wrangling?\n",
        "   - The \"chicken-and-egg\" problem with focusing on tidy data is that tidy tools will be inextricably linked to tidy data, if tidy data is only as useful as the tools that work with it.\n",
        "   - Wickham hopes that other will build on his tidy framework in an effort to create better tools and data storage strategies. He hopes that methodologies from other field can be used to improve our understanding of data analysis cognitively in order to improve the design of data analysis tools."
      ]
    },
    {
      "cell_type": "markdown",
      "id": "649494cd-cfd6-4f80-992a-9994fc19e1d5",
      "metadata": {
        "id": "649494cd-cfd6-4f80-992a-9994fc19e1d5"
      },
      "source": [
        "**Q4.** Many important datasets contain a race variable, typically limited to a handful of values often including Black, White, Asian, Latino, and Indigenous. This question looks at data gathering efforts on this variable by the U.S. Federal government.\n",
        "\n",
        "1. How did the most recent US Census gather data on race?\n",
        "2. Why do we gather these data? What role do these kinds of data play in politics and society? Why does data quality matter?\n",
        "3. Please provide a constructive criticism of how the Census was conducted: What was done well? What do you think was missing? How should future large scale surveys be adjusted to best reflect the diversity of the population? Could some of the Census' good practices be adopted more widely to gather richer and more useful data?\n",
        "4. How did the Census gather data on sex and gender? Please provide a similar constructive criticism of their practices.\n",
        "5. When it comes to cleaning data, what concerns do you have about protected characteristics like sex, gender, sexual identity, or race? What challenges can you imagine arising when there are missing values? What good or bad practices might people adopt, and why?\n",
        "6. Suppose someone invented an algorithm to impute values for protected characteristics like race, gender, sex, or sexuality. What kinds of concerns would you have?"
      ]
    }
  ],
  "metadata": {
    "colab": {
      "provenance": []
    },
    "kernelspec": {
      "display_name": "Python 3",
      "language": "python",
      "name": "python3"
    },
    "language_info": {
      "codemirror_mode": {
        "name": "ipython",
        "version": 3
      },
      "file_extension": ".py",
      "mimetype": "text/x-python",
      "name": "python",
      "nbconvert_exporter": "python",
      "pygments_lexer": "ipython3",
      "version": "3.10.12"
    }
  },
  "nbformat": 4,
  "nbformat_minor": 5
}
