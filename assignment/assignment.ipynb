{
  "cells": [
    {
      "cell_type": "markdown",
      "id": "13ad028b-72b7-43ed-aa78-96fd4e518040",
      "metadata": {
        "id": "13ad028b-72b7-43ed-aa78-96fd4e518040"
      },
      "source": [
        "# Assignment: Data Wrangling\n",
        "### `! git clone https://github.com/ds4e/wrangling`\n",
        "### Do Q2, and one of Q1 or Q3."
      ]
    },
    {
      "cell_type": "markdown",
      "id": "da879ea7-8aac-48a3-b6c2-daea56d2e072",
      "metadata": {
        "id": "da879ea7-8aac-48a3-b6c2-daea56d2e072"
      },
      "source": [
        "**Q1.** This question provides some practice cleaning variables which have common problems.\n",
        "1. Numeric variable: For `./data/airbnb_hw.csv`, clean the `Price` variable as well as you can, and explain the choices you make. How many missing values do you end up with? (Hint: What happens to the formatting when a price goes over 999 dollars, say from 675 to 1,112?)\n",
        "2. Categorical variable: For the Minnesota police use of for data, `./data/mn_police_use_of_force.csv`, clean the `subject_injury` variable, handling the NA's; this gives a value `Yes` when a person was injured by police, and `No` when no injury occurred. What proportion of the values are missing? Is this a concern? Cross-tabulate your cleaned `subject_injury` variable with the `force_type` variable. Are there any patterns regarding when the data are missing? \n",
        "3. Dummy variable: For the pretrial data covered in the lecture, clean the `WhetherDefendantWasReleasedPretrial` variable as well as you can, and, in particular, replace missing values with `np.nan`.\n",
        "4. Missing values, not at random: For the pretrial data covered in the lecture, clean the `ImposedSentenceAllChargeInContactEvent` variable as well as you can, and explain the choices you make. (Hint: Look at the `SentenceTypeAllChargesAtConvictionInContactEvent` variable.)"
      ]
    },
    {
      "cell_type": "markdown",
      "id": "5a60a44e",
      "metadata": {},
      "source": [
        "**Q2.** Go to https://sharkattackfile.net/ and download their dataset on shark attacks.\n",
        "\n",
        "1. Open the shark attack file using Pandas. It is probably not a csv file, so `read_csv` won't work.\n",
        "2. Drop any columns that do not contain data.\n",
        "3. Clean the year variable. Describe the range of values you see. Filter the rows to focus on attacks since 1940. Are attacks increasing, decreasing, or remaining constant over time?\n",
        "4. Clean the Age variable and make a histogram of the ages of the victims.\n",
        "5. What proportion of victims are male?\n",
        "6. Clean the `Type` variable so it only takes three values: Provoked and Unprovoked and Unknown. What proportion of attacks are unprovoked?\n",
        "7. Clean the `Fatal Y/N` variable so it only takes three values: Y, N, and Unknown.\n",
        "8. Are sharks more likely to launch unprovoked attacks on men or women? Is the attack more or less likely to be fatal when the attack is provoked or unprovoked? Is it more or less likely to be fatal when the victim is male or female? How do you feel about sharks?\n",
        "9. What proportion of attacks appear to be by white sharks? (Hint: `str.split()` makes a vector of text values into a list of lists, split by spaces.)"
      ]
    },
    {
      "cell_type": "code",
      "execution_count": 145,
      "id": "bab5e1fb",
      "metadata": {},
      "outputs": [
        {
          "data": {
            "text/plain": [
              "Index(['Date', 'Year', 'Type', 'Country', 'State', 'Location', 'Activity',\n",
              "       'Name', 'Sex', 'Age', 'Injury', 'Fatal Y/N', 'Time', 'Species ',\n",
              "       'Source', 'pdf', 'href formula', 'href', 'Case Number', 'Case Number.1',\n",
              "       'original order', 'Unnamed: 21', 'Unnamed: 22'],\n",
              "      dtype='object')"
            ]
          },
          "execution_count": 145,
          "metadata": {},
          "output_type": "execute_result"
        }
      ],
      "source": [
        "import pandas as pd\n",
        "import numpy as np\n",
        "import matplotlib.pyplot as plt\n",
        "\n",
        "# 2.1 - Open the shark attack file using Pandas. It is probably not a csv file, so `read_csv` won't work.\n",
        "# pip install xlrd\n",
        "df = pd.read_excel(\"data/GSAF5.xls\")\n",
        "df.columns"
      ]
    },
    {
      "cell_type": "code",
      "execution_count": 146,
      "id": "a0b100a0",
      "metadata": {},
      "outputs": [
        {
          "data": {
            "text/plain": [
              "Index(['Date', 'Year', 'Type', 'Country', 'State', 'Location', 'Activity',\n",
              "       'Name', 'Sex', 'Age', 'Injury', 'Fatal Y/N', 'Time', 'Species ',\n",
              "       'Source', 'pdf', 'href formula', 'href', 'Case Number', 'Case Number.1',\n",
              "       'original order', 'Unnamed: 21', 'Unnamed: 22'],\n",
              "      dtype='object')"
            ]
          },
          "execution_count": 146,
          "metadata": {},
          "output_type": "execute_result"
        }
      ],
      "source": [
        "# 2.2 - Drop any columns that do not contain data.\n",
        "df = df.dropna(axis = 'columns', how = 'all')\n",
        "df.columns\n",
        "# Nothing changed?"
      ]
    },
    {
      "cell_type": "code",
      "execution_count": 147,
      "id": "c056bfe1",
      "metadata": {},
      "outputs": [
        {
          "data": {
            "text/plain": [
              "array([2025., 2024., 2026., 2023., 2022., 2021., 2020., 2019., 2018.,\n",
              "       2017., 2016., 2015., 2014., 2013., 2012., 2011., 2010., 2009.,\n",
              "       2008., 2007., 2006., 2005., 2004., 2003., 2002., 2001., 2000.,\n",
              "       1999., 1998., 1997., 1996., 1995., 1984., 1994., 1993., 1992.,\n",
              "       1991., 1990., 1989., 1969., 1988., 1987., 1986., 1985., 1983.,\n",
              "       1982., 1981., 1980., 1979., 1978., 1977., 1976., 1975., 1974.,\n",
              "       1973., 1972., 1971., 1970., 1968., 1967., 1966., 1965., 1964.,\n",
              "       1963., 1962., 1961., 1960., 1959., 1958., 1957., 1956., 1955.,\n",
              "       1954., 1953., 1952., 1951., 1950., 1949., 1948., 1848., 1947.,\n",
              "       1946., 1945., 1944., 1943., 1942., 1941., 1940., 1939., 1938.,\n",
              "       1937., 1936., 1935., 1934., 1933., 1932., 1931., 1930., 1929.,\n",
              "       1928., 1927., 1926., 1925., 1924., 1923., 1922., 1921., 1920.,\n",
              "       1919., 1918., 1917., 1916., 1915., 1914., 1913., 1912., 1911.,\n",
              "       1910., 1909., 1908., 1907., 1906., 1905., 1904., 1903., 1902.,\n",
              "       1901., 1900., 1899., 1898., 1897., 1896., 1895., 1894., 1893.,\n",
              "       1892., 1891., 1890., 1889., 1888., 1887., 1886., 1885., 1884.,\n",
              "       1883., 1882., 1881., 1880., 1879., 1878., 1877., 1876., 1875.,\n",
              "       1874., 1873., 1872., 1871., 1870., 1869., 1868., 1867., 1866.,\n",
              "       1865., 1864., 1863., 1862., 1861., 1860., 1859., 1858., 1857.,\n",
              "       1856., 1855., 1853., 1852., 1851., 1850., 1849., 1847., 1846.,\n",
              "       1845., 1844., 1842., 1841., 1840., 1839., 1837., 1836., 1835.,\n",
              "       1834., 1832., 1831., 1830., 1829., 1828., 1827., 1826., 1825.,\n",
              "       1823., 1822., 1819., 1818., 1817., 1816., 1815., 1812., 1811.,\n",
              "       1810., 1808., 1807., 1805., 1804., 1803., 1802., 1801., 1800.,\n",
              "       1797., 1792., 1791., 1788., 1787., 1786., 1785., 1784., 1783.,\n",
              "       1780., 1779., 1776., 1771., 1767., 1764., 1758., 1753., 1751.,\n",
              "       1749., 1755., 1748., 1742., 1738., 1733., 1723., 1721., 1703.,\n",
              "       1700., 1642., 1691., 1640., 1638., 1637., 1617., 1595., 1580.,\n",
              "       1555., 1554., 1543., 1518., 1500., 1000.])"
            ]
          },
          "execution_count": 147,
          "metadata": {},
          "output_type": "execute_result"
        }
      ],
      "source": [
        "# 2.3 - Clean the year variable. Describe the range of values you see. Filter the rows to focus on attacks since 1940. Are attacks increasing, decreasing, or remaining constant over time?\n",
        "df = df[~df['Year'].isin([np.nan, 77., 5., 0,])]\n",
        "df['Year'].unique()"
      ]
    },
    {
      "cell_type": "code",
      "execution_count": 148,
      "id": "ef0f1ad8",
      "metadata": {},
      "outputs": [
        {
          "data": {
            "image/png": "[encoded data removed]",
            "text/plain": [
              "<Figure size 640x480 with 1 Axes>"
            ]
          },
          "metadata": {},
          "output_type": "display_data"
        }
      ],
      "source": [
        "# The values range from 1000 to 2025\n",
        "df = df[df['Year'] >= 1940]\n",
        "df['Year'].unique()\n",
        "plt.figure()\n",
        "plt.hist(df['Year'], color = 'navy')\n",
        "plt.xlabel(\"Year\")\n",
        "plt.ylabel(\"Number of Shark Attacks\")\n",
        "plt.title(\"Shark Attack Reports are Increasing in the 2000s compared to the 1900s\")\n",
        "plt.show()"
      ]
    },
    {
      "cell_type": "code",
      "execution_count": 149,
      "id": "f6e743ae",
      "metadata": {},
      "outputs": [
        {
          "name": "stdout",
          "output_type": "stream",
          "text": [
            "[23 40 28 69 48 '60+' '?' 57 24 45 61 27 38 16 33 30 15 41 14 26\n",
            " 'Middle age' 18 21 49 25 46 19 20 65 64 '13' nan '11' '46' '32' '29' '10'\n",
            " '64' '62' '39' '22' '15' '16' '21' '66' '52' '20' '44' '26' '47' '55'\n",
            " '30' '59' '8' '50' '45' '34' '38' '30s' '37' '9' '19' '20/30' '35' '65'\n",
            " '20s' '77' '60' '49' '42' '!2' '24' '73' '25' '18' '50s' '58' '67' '17'\n",
            " '14' '6' '41' '53' '68' '43' '40' '51' '31' 39 58 51 17 10 13 60 '40s' 68\n",
            " 35 62 'teen' 8 22 32 56 'Teen' 12 42 36 37 50 'M' 9 11 34 '!6' 31 '!!' 47\n",
            " 55 7 71 59 53 54 75 '45 and 15' 73 52 29 70 4 63 44 '28 & 22'\n",
            " '22, 57, 31' '60s' \"20's\" 43 67 74 '9 & 60' 'a minor' 6 3 82 66 72 '23'\n",
            " '12' '36' '63' '71' '48' '70' '18 months' '57' '7' '28' '33' '61' '74'\n",
            " '27' '3' '56' '28 & 26' '5' '54' '86' '18 or 20' '12 or 13' '46 & 34'\n",
            " '28, 23 & 30' 'Teens' 77 '36 & 26' '8 or 10' 84 '\\xa0 ' ' ' '30 or 36'\n",
            " '6½' '21 & ?' '33 or 37' 'mid-30s' '23 & 20' 5 ' 30' '7      &    31'\n",
            " ' 28' '20?' \"60's\" '69' '32 & 30' '16 to 18' '87' 'Elderly' 'mid-20s'\n",
            " 'Ca. 33' '74 ' '45 ' '21 or 26' '20 ' '>50' '18 to 22' 'adult' '9 & 12'\n",
            " '? & 19' '9 months' '25 to 35' '23 & 26' 1 '(adult)' '33 & 37' '25 or 28'\n",
            " '37, 67, 35, 27,  ? & 27' '21, 34,24 & 35' '30 & 32' '50 & 30' '17 & 35'\n",
            " 'X' '\"middle-age\"' '13 or 18' '34 & 19' '33 & 26' '2 to 3 months' '4'\n",
            " 'MAKE LINE GREEN' ' 43' '81' '\"young\"' '7 or 8' 78 '17 & 16' 'F']\n"
          ]
        }
      ],
      "source": [
        "# 2.4 - Clean the Age variable and make a histogram of the ages of the victims.\n",
        "print(df['Age'].unique())\n",
        "df['Age'] = pd.to_numeric(df['Age'], errors='coerce')\n",
        "df = df.dropna(subset = ['Age'])"
      ]
    },
    {
      "cell_type": "code",
      "execution_count": 150,
      "id": "2a267c03",
      "metadata": {},
      "outputs": [
        {
          "data": {
            "image/png": "[encoded data removed]",
            "text/plain": [
              "<Figure size 640x480 with 1 Axes>"
            ]
          },
          "metadata": {},
          "output_type": "display_data"
        }
      ],
      "source": [
        "plt.figure()\n",
        "plt.hist(df['Age'], color = 'navy')\n",
        "plt.xlabel(\"Age\")\n",
        "plt.ylabel(\"Number of Shark Attacks\")\n",
        "plt.title(\"Shark Attack Reports by Age since 1940\")\n",
        "plt.show()"
      ]
    },
    {
      "cell_type": "code",
      "execution_count": 151,
      "id": "e2c1a7d8",
      "metadata": {},
      "outputs": [
        {
          "data": {
            "text/plain": [
              "Sex\n",
              "M      2977\n",
              "F       545\n",
              " M        1\n",
              "M         1\n",
              "lli       1\n",
              "Name: count, dtype: int64"
            ]
          },
          "execution_count": 151,
          "metadata": {},
          "output_type": "execute_result"
        }
      ],
      "source": [
        "# 2.5 - What proportion of victims are male?\n",
        "df['Sex'].value_counts()"
      ]
    },
    {
      "cell_type": "code",
      "execution_count": 152,
      "id": "0087fabc",
      "metadata": {},
      "outputs": [
        {
          "name": "stdout",
          "output_type": "stream",
          "text": [
            "The proportion of victims which are men is 0.845\n"
          ]
        }
      ],
      "source": [
        "df['Sex'] = df['Sex'].str.strip()\n",
        "df = df[df['Sex'].isin([\"M\", \"F\"])]\n",
        "df['Sex'].value_counts()\n",
        "\n",
        "print(\"The proportion of victims which are men is\", round(sum(df['Sex'] == \"M\") / len(df), 3))"
      ]
    },
    {
      "cell_type": "code",
      "execution_count": 153,
      "id": "b8f09c0a",
      "metadata": {},
      "outputs": [
        {
          "name": "stdout",
          "output_type": "stream",
          "text": [
            "Type\n",
            "Unprovoked             2933\n",
            "Provoked                286\n",
            "Invalid                 203\n",
            "Watercraft               39\n",
            "Sea Disaster             37\n",
            "Questionable             15\n",
            "?                         1\n",
            "Under investigation       1\n",
            "Name: count, dtype: int64 \n",
            "\n",
            "\n",
            "Type\n",
            "Unprovoked    2933\n",
            "Unknown        305\n",
            "Provoked       286\n",
            "Name: count, dtype: int64 \n",
            "\n",
            "\n",
            "The proportion of attacks which are unprovoked is 0.832\n"
          ]
        }
      ],
      "source": [
        "# 2.6 - Clean the `Type` variable so it only takes three values: Provoked and Unprovoked and Unknown. What proportion of attacks are unprovoked?\n",
        "# Unknown?\n",
        "print(df['Type'].value_counts(), \"\\n\\n\")\n",
        "df['Type'] = df['Type'].apply(lambda x: x if x in [\"Unprovoked\", \"Provoked\"] else \"Unknown\")\n",
        "print(df['Type'].value_counts(), \"\\n\\n\")\n",
        "\n",
        "print(\"The proportion of attacks which are unprovoked is\", round(sum(df['Type'] == \"Unprovoked\") / len(df), 3))"
      ]
    },
    {
      "cell_type": "code",
      "execution_count": 154,
      "id": "cc946ba6",
      "metadata": {},
      "outputs": [
        {
          "name": "stdout",
          "output_type": "stream",
          "text": [
            "['N' 'Y' 'F' nan 'M' 2017 'UNKNOWN' ' N']\n",
            "Fatal Y/N\n",
            "N          2795\n",
            "Y           511\n",
            "UNKNOWN       7\n",
            " N            6\n",
            "F             4\n",
            "M             1\n",
            "2017          1\n",
            "Name: count, dtype: int64 \n",
            "\n",
            "\n",
            "Fatal Y/N\n",
            "N          2801\n",
            "Y           511\n",
            "UNKNOWN       7\n",
            "F             4\n",
            "M             1\n",
            "2017          1\n",
            "Name: count, dtype: int64 \n",
            "\n",
            "\n",
            "Fatal Y/N\n",
            "N          2801\n",
            "Y           511\n",
            "Unknown      13\n",
            "Name: count, dtype: int64\n"
          ]
        }
      ],
      "source": [
        "# 2.7 - Clean the `Fatal Y/N` variable so it only takes three values: Y, N, and Unknown.\n",
        "print(df['Fatal Y/N'].unique())\n",
        "df = df.dropna(subset = ['Fatal Y/N'])\n",
        "print(df['Fatal Y/N'].value_counts(), \"\\n\\n\")\n",
        "df['Fatal Y/N'] = df['Fatal Y/N'].astype(str)\n",
        "df['Fatal Y/N'] = df['Fatal Y/N'].str.strip()\n",
        "print(df['Fatal Y/N'].value_counts(), \"\\n\\n\")\n",
        "df['Fatal Y/N'] = df['Fatal Y/N'].apply(lambda x: x if x in [\"Y\", \"N\"] else \"Unknown\")\n",
        "print(df['Fatal Y/N'].value_counts())"
      ]
    },
    {
      "cell_type": "code",
      "execution_count": 155,
      "id": "1add2630",
      "metadata": {},
      "outputs": [],
      "source": [
        "# 2.8 - Are sharks more likely to launch unprovoked attacks on men or women? Is the attack more or less likely to be fatal when the attack is provoked or unprovoked? Is it more or less likely to be fatal when the victim is male or female? How do you feel about sharks?"
      ]
    },
    {
      "cell_type": "code",
      "execution_count": 156,
      "id": "2aee588a",
      "metadata": {},
      "outputs": [],
      "source": [
        "# 2.9 - What proportion of attacks appear to be by white sharks? (Hint: `str.split()` makes a vector of text values into a list of lists, split by spaces.)"
      ]
    },
    {
      "cell_type": "markdown",
      "id": "5735a4d4-8be8-433a-a351-70eb8002e632",
      "metadata": {
        "id": "5735a4d4-8be8-433a-a351-70eb8002e632"
      },
      "source": [
        "**Q3.** Open the \"tidy_data.pdf\" document in the repo, which is a paper called Tidy Data by Hadley Wickham.\n",
        "\n",
        "  1. Read the abstract. What is this paper about?\n",
        "  2. Read the introduction. What is the \"tidy data standard\" intended to accomplish?\n",
        "  3. Read the intro to section 2. What does this sentence mean: \"Like families, tidy datasets are all alike but every messy dataset is messy in its own way.\" What does this sentence mean: \"For a given dataset, it’s usually easy to figure out what are observations and what are variables, but it is surprisingly difficult to precisely define variables and observations in general.\"\n",
        "  4. Read Section 2.2. How does Wickham define values, variables, and observations?\n",
        "  5. How is \"Tidy Data\" defined in section 2.3?\n",
        "  6. Read the intro to Section 3 and Section 3.1. What are the 5 most common problems with messy datasets? Why are the data in Table 4 messy? What is \"melting\" a dataset?\n",
        "  7. Why, specifically, is table 11 messy but table 12 tidy and \"molten\"?\n",
        "  8. Read Section 6. What is the \"chicken-and-egg\" problem with focusing on tidy data? What does Wickham hope happens in the future with further work on the subject of data wrangling?"
      ]
    },
    {
      "cell_type": "markdown",
      "id": "649494cd-cfd6-4f80-992a-9994fc19e1d5",
      "metadata": {
        "id": "649494cd-cfd6-4f80-992a-9994fc19e1d5"
      },
      "source": [
        "**Q4.** Many important datasets contain a race variable, typically limited to a handful of values often including Black, White, Asian, Latino, and Indigenous. This question looks at data gathering efforts on this variable by the U.S. Federal government.\n",
        "\n",
        "1. How did the most recent US Census gather data on race?\n",
        "2. Why do we gather these data? What role do these kinds of data play in politics and society? Why does data quality matter?\n",
        "3. Please provide a constructive criticism of how the Census was conducted: What was done well? What do you think was missing? How should future large scale surveys be adjusted to best reflect the diversity of the population? Could some of the Census' good practices be adopted more widely to gather richer and more useful data?\n",
        "4. How did the Census gather data on sex and gender? Please provide a similar constructive criticism of their practices.\n",
        "5. When it comes to cleaning data, what concerns do you have about protected characteristics like sex, gender, sexual identity, or race? What challenges can you imagine arising when there are missing values? What good or bad practices might people adopt, and why?\n",
        "6. Suppose someone invented an algorithm to impute values for protected characteristics like race, gender, sex, or sexuality. What kinds of concerns would you have?"
      ]
    }
  ],
  "metadata": {
    "colab": {
      "provenance": []
    },
    "kernelspec": {
      "display_name": "Python 3",
      "language": "python",
      "name": "python3"
    },
    "language_info": {
      "codemirror_mode": {
        "name": "ipython",
        "version": 3
      },
      "file_extension": ".py",
      "mimetype": "text/x-python",
      "name": "python",
      "nbconvert_exporter": "python",
      "pygments_lexer": "ipython3",
      "version": "3.10.12"
    }
  },
  "nbformat": 4,
  "nbformat_minor": 5
}
